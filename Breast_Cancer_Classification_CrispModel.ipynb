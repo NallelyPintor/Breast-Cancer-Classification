{
  "nbformat": 4,
  "nbformat_minor": 0,
  "metadata": {
    "colab": {
      "provenance": [],
      "include_colab_link": true
    },
    "kernelspec": {
      "name": "python3",
      "display_name": "Python 3"
    },
    "language_info": {
      "name": "python"
    }
  },
  "cells": [
    {
      "cell_type": "markdown",
      "metadata": {
        "id": "view-in-github",
        "colab_type": "text"
      },
      "source": [
        "<a href=\"https://colab.research.google.com/github/NallelyPintor/Breast-Cancer-Classification/blob/main/Breast_Cancer_Classification_CrispModel.ipynb\" target=\"_parent\"><img src=\"https://colab.research.google.com/assets/colab-badge.svg\" alt=\"Open In Colab\"/></a>"
      ]
    },
    {
      "cell_type": "markdown",
      "source": [
        "# Clasificación de pacientes con cáncer de mama \n"
      ],
      "metadata": {
        "id": "GSXcFhY6j21Y"
      }
    },
    {
      "cell_type": "markdown",
      "source": [
        "## Entendimiento del Negocio\n",
        "Se quiere estimar los pacientes con cáncer de mama según datos recolectados previamente\n"
      ],
      "metadata": {
        "id": "WZJ2A0na3uHV"
      }
    },
    {
      "cell_type": "code",
      "execution_count": null,
      "metadata": {
        "id": "kQIVMS1z116l"
      },
      "outputs": [],
      "source": [
        "#imports\n",
        "import numpy as np\n",
        "import pandas as pd\n",
        "\n",
        "import matplotlib.pyplot as plt\n",
        "import seaborn as sns\n",
        "\n",
        "from sklearn.model_selection import train_test_split\n",
        "from sklearn.metrics import classification_report\n",
        "\n",
        "import warnings\n",
        "warnings.filterwarnings('ignore')"
      ]
    },
    {
      "cell_type": "code",
      "source": [
        "df  = pd.read_csv('https://archive.ics.uci.edu/ml/machine-learning-databases/00451/dataR2.csv')"
      ],
      "metadata": {
        "id": "OtcQuaOI2jqQ"
      },
      "execution_count": null,
      "outputs": []
    },
    {
      "cell_type": "markdown",
      "source": [
        "## Entendimiento de los datos"
      ],
      "metadata": {
        "id": "5lziQOjD328H"
      }
    },
    {
      "cell_type": "code",
      "source": [
        "df.head()"
      ],
      "metadata": {
        "colab": {
          "base_uri": "https://localhost:8080/",
          "height": 206
        },
        "id": "mAb4Ixke2o9G",
        "outputId": "857cc988-6cd4-486d-b518-fff6c5b4ad3b"
      },
      "execution_count": null,
      "outputs": [
        {
          "output_type": "execute_result",
          "data": {
            "text/plain": [
              "   Age        BMI  Glucose  Insulin      HOMA   Leptin  Adiponectin  Resistin  \\\n",
              "0   48  23.500000       70    2.707  0.467409   8.8071     9.702400   7.99585   \n",
              "1   83  20.690495       92    3.115  0.706897   8.8438     5.429285   4.06405   \n",
              "2   82  23.124670       91    4.498  1.009651  17.9393    22.432040   9.27715   \n",
              "3   68  21.367521       77    3.226  0.612725   9.8827     7.169560  12.76600   \n",
              "4   86  21.111111       92    3.549  0.805386   6.6994     4.819240  10.57635   \n",
              "\n",
              "     MCP.1  Classification  \n",
              "0  417.114               1  \n",
              "1  468.786               1  \n",
              "2  554.697               1  \n",
              "3  928.220               1  \n",
              "4  773.920               1  "
            ],
            "text/html": [
              "\n",
              "  <div id=\"df-598a822c-b077-4d9a-b7df-02a52f2175ed\">\n",
              "    <div class=\"colab-df-container\">\n",
              "      <div>\n",
              "<style scoped>\n",
              "    .dataframe tbody tr th:only-of-type {\n",
              "        vertical-align: middle;\n",
              "    }\n",
              "\n",
              "    .dataframe tbody tr th {\n",
              "        vertical-align: top;\n",
              "    }\n",
              "\n",
              "    .dataframe thead th {\n",
              "        text-align: right;\n",
              "    }\n",
              "</style>\n",
              "<table border=\"1\" class=\"dataframe\">\n",
              "  <thead>\n",
              "    <tr style=\"text-align: right;\">\n",
              "      <th></th>\n",
              "      <th>Age</th>\n",
              "      <th>BMI</th>\n",
              "      <th>Glucose</th>\n",
              "      <th>Insulin</th>\n",
              "      <th>HOMA</th>\n",
              "      <th>Leptin</th>\n",
              "      <th>Adiponectin</th>\n",
              "      <th>Resistin</th>\n",
              "      <th>MCP.1</th>\n",
              "      <th>Classification</th>\n",
              "    </tr>\n",
              "  </thead>\n",
              "  <tbody>\n",
              "    <tr>\n",
              "      <th>0</th>\n",
              "      <td>48</td>\n",
              "      <td>23.500000</td>\n",
              "      <td>70</td>\n",
              "      <td>2.707</td>\n",
              "      <td>0.467409</td>\n",
              "      <td>8.8071</td>\n",
              "      <td>9.702400</td>\n",
              "      <td>7.99585</td>\n",
              "      <td>417.114</td>\n",
              "      <td>1</td>\n",
              "    </tr>\n",
              "    <tr>\n",
              "      <th>1</th>\n",
              "      <td>83</td>\n",
              "      <td>20.690495</td>\n",
              "      <td>92</td>\n",
              "      <td>3.115</td>\n",
              "      <td>0.706897</td>\n",
              "      <td>8.8438</td>\n",
              "      <td>5.429285</td>\n",
              "      <td>4.06405</td>\n",
              "      <td>468.786</td>\n",
              "      <td>1</td>\n",
              "    </tr>\n",
              "    <tr>\n",
              "      <th>2</th>\n",
              "      <td>82</td>\n",
              "      <td>23.124670</td>\n",
              "      <td>91</td>\n",
              "      <td>4.498</td>\n",
              "      <td>1.009651</td>\n",
              "      <td>17.9393</td>\n",
              "      <td>22.432040</td>\n",
              "      <td>9.27715</td>\n",
              "      <td>554.697</td>\n",
              "      <td>1</td>\n",
              "    </tr>\n",
              "    <tr>\n",
              "      <th>3</th>\n",
              "      <td>68</td>\n",
              "      <td>21.367521</td>\n",
              "      <td>77</td>\n",
              "      <td>3.226</td>\n",
              "      <td>0.612725</td>\n",
              "      <td>9.8827</td>\n",
              "      <td>7.169560</td>\n",
              "      <td>12.76600</td>\n",
              "      <td>928.220</td>\n",
              "      <td>1</td>\n",
              "    </tr>\n",
              "    <tr>\n",
              "      <th>4</th>\n",
              "      <td>86</td>\n",
              "      <td>21.111111</td>\n",
              "      <td>92</td>\n",
              "      <td>3.549</td>\n",
              "      <td>0.805386</td>\n",
              "      <td>6.6994</td>\n",
              "      <td>4.819240</td>\n",
              "      <td>10.57635</td>\n",
              "      <td>773.920</td>\n",
              "      <td>1</td>\n",
              "    </tr>\n",
              "  </tbody>\n",
              "</table>\n",
              "</div>\n",
              "      <button class=\"colab-df-convert\" onclick=\"convertToInteractive('df-598a822c-b077-4d9a-b7df-02a52f2175ed')\"\n",
              "              title=\"Convert this dataframe to an interactive table.\"\n",
              "              style=\"display:none;\">\n",
              "        \n",
              "  <svg xmlns=\"http://www.w3.org/2000/svg\" height=\"24px\"viewBox=\"0 0 24 24\"\n",
              "       width=\"24px\">\n",
              "    <path d=\"M0 0h24v24H0V0z\" fill=\"none\"/>\n",
              "    <path d=\"M18.56 5.44l.94 2.06.94-2.06 2.06-.94-2.06-.94-.94-2.06-.94 2.06-2.06.94zm-11 1L8.5 8.5l.94-2.06 2.06-.94-2.06-.94L8.5 2.5l-.94 2.06-2.06.94zm10 10l.94 2.06.94-2.06 2.06-.94-2.06-.94-.94-2.06-.94 2.06-2.06.94z\"/><path d=\"M17.41 7.96l-1.37-1.37c-.4-.4-.92-.59-1.43-.59-.52 0-1.04.2-1.43.59L10.3 9.45l-7.72 7.72c-.78.78-.78 2.05 0 2.83L4 21.41c.39.39.9.59 1.41.59.51 0 1.02-.2 1.41-.59l7.78-7.78 2.81-2.81c.8-.78.8-2.07 0-2.86zM5.41 20L4 18.59l7.72-7.72 1.47 1.35L5.41 20z\"/>\n",
              "  </svg>\n",
              "      </button>\n",
              "      \n",
              "  <style>\n",
              "    .colab-df-container {\n",
              "      display:flex;\n",
              "      flex-wrap:wrap;\n",
              "      gap: 12px;\n",
              "    }\n",
              "\n",
              "    .colab-df-convert {\n",
              "      background-color: #E8F0FE;\n",
              "      border: none;\n",
              "      border-radius: 50%;\n",
              "      cursor: pointer;\n",
              "      display: none;\n",
              "      fill: #1967D2;\n",
              "      height: 32px;\n",
              "      padding: 0 0 0 0;\n",
              "      width: 32px;\n",
              "    }\n",
              "\n",
              "    .colab-df-convert:hover {\n",
              "      background-color: #E2EBFA;\n",
              "      box-shadow: 0px 1px 2px rgba(60, 64, 67, 0.3), 0px 1px 3px 1px rgba(60, 64, 67, 0.15);\n",
              "      fill: #174EA6;\n",
              "    }\n",
              "\n",
              "    [theme=dark] .colab-df-convert {\n",
              "      background-color: #3B4455;\n",
              "      fill: #D2E3FC;\n",
              "    }\n",
              "\n",
              "    [theme=dark] .colab-df-convert:hover {\n",
              "      background-color: #434B5C;\n",
              "      box-shadow: 0px 1px 3px 1px rgba(0, 0, 0, 0.15);\n",
              "      filter: drop-shadow(0px 1px 2px rgba(0, 0, 0, 0.3));\n",
              "      fill: #FFFFFF;\n",
              "    }\n",
              "  </style>\n",
              "\n",
              "      <script>\n",
              "        const buttonEl =\n",
              "          document.querySelector('#df-598a822c-b077-4d9a-b7df-02a52f2175ed button.colab-df-convert');\n",
              "        buttonEl.style.display =\n",
              "          google.colab.kernel.accessAllowed ? 'block' : 'none';\n",
              "\n",
              "        async function convertToInteractive(key) {\n",
              "          const element = document.querySelector('#df-598a822c-b077-4d9a-b7df-02a52f2175ed');\n",
              "          const dataTable =\n",
              "            await google.colab.kernel.invokeFunction('convertToInteractive',\n",
              "                                                     [key], {});\n",
              "          if (!dataTable) return;\n",
              "\n",
              "          const docLinkHtml = 'Like what you see? Visit the ' +\n",
              "            '<a target=\"_blank\" href=https://colab.research.google.com/notebooks/data_table.ipynb>data table notebook</a>'\n",
              "            + ' to learn more about interactive tables.';\n",
              "          element.innerHTML = '';\n",
              "          dataTable['output_type'] = 'display_data';\n",
              "          await google.colab.output.renderOutput(dataTable, element);\n",
              "          const docLink = document.createElement('div');\n",
              "          docLink.innerHTML = docLinkHtml;\n",
              "          element.appendChild(docLink);\n",
              "        }\n",
              "      </script>\n",
              "    </div>\n",
              "  </div>\n",
              "  "
            ]
          },
          "metadata": {},
          "execution_count": 3
        }
      ]
    },
    {
      "cell_type": "code",
      "source": [
        "df.describe().T"
      ],
      "metadata": {
        "colab": {
          "base_uri": "https://localhost:8080/",
          "height": 363
        },
        "id": "YlKGlsbk2rxZ",
        "outputId": "0b963668-3630-4134-d147-7696ff0b884a"
      },
      "execution_count": null,
      "outputs": [
        {
          "output_type": "execute_result",
          "data": {
            "text/plain": [
              "                count        mean         std        min         25%  \\\n",
              "Age             116.0   57.301724   16.112766  24.000000   45.000000   \n",
              "BMI             116.0   27.582111    5.020136  18.370000   22.973205   \n",
              "Glucose         116.0   97.793103   22.525162  60.000000   85.750000   \n",
              "Insulin         116.0   10.012086   10.067768   2.432000    4.359250   \n",
              "HOMA            116.0    2.694988    3.642043   0.467409    0.917966   \n",
              "Leptin          116.0   26.615080   19.183294   4.311000   12.313675   \n",
              "Adiponectin     116.0   10.180874    6.843341   1.656020    5.474283   \n",
              "Resistin        116.0   14.725966   12.390646   3.210000    6.881763   \n",
              "MCP.1           116.0  534.647000  345.912663  45.843000  269.978250   \n",
              "Classification  116.0    1.551724    0.499475   1.000000    1.000000   \n",
              "\n",
              "                       50%         75%          max  \n",
              "Age              56.000000   71.000000    89.000000  \n",
              "BMI              27.662416   31.241442    38.578759  \n",
              "Glucose          92.000000  102.000000   201.000000  \n",
              "Insulin           5.924500   11.189250    58.460000  \n",
              "HOMA              1.380939    2.857787    25.050342  \n",
              "Leptin           20.271000   37.378300    90.280000  \n",
              "Adiponectin       8.352692   11.815970    38.040000  \n",
              "Resistin         10.827740   17.755207    82.100000  \n",
              "MCP.1           471.322500  700.085000  1698.440000  \n",
              "Classification    2.000000    2.000000     2.000000  "
            ],
            "text/html": [
              "\n",
              "  <div id=\"df-9f56b21d-55e6-474f-a53f-dd2fbf4cf50d\">\n",
              "    <div class=\"colab-df-container\">\n",
              "      <div>\n",
              "<style scoped>\n",
              "    .dataframe tbody tr th:only-of-type {\n",
              "        vertical-align: middle;\n",
              "    }\n",
              "\n",
              "    .dataframe tbody tr th {\n",
              "        vertical-align: top;\n",
              "    }\n",
              "\n",
              "    .dataframe thead th {\n",
              "        text-align: right;\n",
              "    }\n",
              "</style>\n",
              "<table border=\"1\" class=\"dataframe\">\n",
              "  <thead>\n",
              "    <tr style=\"text-align: right;\">\n",
              "      <th></th>\n",
              "      <th>count</th>\n",
              "      <th>mean</th>\n",
              "      <th>std</th>\n",
              "      <th>min</th>\n",
              "      <th>25%</th>\n",
              "      <th>50%</th>\n",
              "      <th>75%</th>\n",
              "      <th>max</th>\n",
              "    </tr>\n",
              "  </thead>\n",
              "  <tbody>\n",
              "    <tr>\n",
              "      <th>Age</th>\n",
              "      <td>116.0</td>\n",
              "      <td>57.301724</td>\n",
              "      <td>16.112766</td>\n",
              "      <td>24.000000</td>\n",
              "      <td>45.000000</td>\n",
              "      <td>56.000000</td>\n",
              "      <td>71.000000</td>\n",
              "      <td>89.000000</td>\n",
              "    </tr>\n",
              "    <tr>\n",
              "      <th>BMI</th>\n",
              "      <td>116.0</td>\n",
              "      <td>27.582111</td>\n",
              "      <td>5.020136</td>\n",
              "      <td>18.370000</td>\n",
              "      <td>22.973205</td>\n",
              "      <td>27.662416</td>\n",
              "      <td>31.241442</td>\n",
              "      <td>38.578759</td>\n",
              "    </tr>\n",
              "    <tr>\n",
              "      <th>Glucose</th>\n",
              "      <td>116.0</td>\n",
              "      <td>97.793103</td>\n",
              "      <td>22.525162</td>\n",
              "      <td>60.000000</td>\n",
              "      <td>85.750000</td>\n",
              "      <td>92.000000</td>\n",
              "      <td>102.000000</td>\n",
              "      <td>201.000000</td>\n",
              "    </tr>\n",
              "    <tr>\n",
              "      <th>Insulin</th>\n",
              "      <td>116.0</td>\n",
              "      <td>10.012086</td>\n",
              "      <td>10.067768</td>\n",
              "      <td>2.432000</td>\n",
              "      <td>4.359250</td>\n",
              "      <td>5.924500</td>\n",
              "      <td>11.189250</td>\n",
              "      <td>58.460000</td>\n",
              "    </tr>\n",
              "    <tr>\n",
              "      <th>HOMA</th>\n",
              "      <td>116.0</td>\n",
              "      <td>2.694988</td>\n",
              "      <td>3.642043</td>\n",
              "      <td>0.467409</td>\n",
              "      <td>0.917966</td>\n",
              "      <td>1.380939</td>\n",
              "      <td>2.857787</td>\n",
              "      <td>25.050342</td>\n",
              "    </tr>\n",
              "    <tr>\n",
              "      <th>Leptin</th>\n",
              "      <td>116.0</td>\n",
              "      <td>26.615080</td>\n",
              "      <td>19.183294</td>\n",
              "      <td>4.311000</td>\n",
              "      <td>12.313675</td>\n",
              "      <td>20.271000</td>\n",
              "      <td>37.378300</td>\n",
              "      <td>90.280000</td>\n",
              "    </tr>\n",
              "    <tr>\n",
              "      <th>Adiponectin</th>\n",
              "      <td>116.0</td>\n",
              "      <td>10.180874</td>\n",
              "      <td>6.843341</td>\n",
              "      <td>1.656020</td>\n",
              "      <td>5.474283</td>\n",
              "      <td>8.352692</td>\n",
              "      <td>11.815970</td>\n",
              "      <td>38.040000</td>\n",
              "    </tr>\n",
              "    <tr>\n",
              "      <th>Resistin</th>\n",
              "      <td>116.0</td>\n",
              "      <td>14.725966</td>\n",
              "      <td>12.390646</td>\n",
              "      <td>3.210000</td>\n",
              "      <td>6.881763</td>\n",
              "      <td>10.827740</td>\n",
              "      <td>17.755207</td>\n",
              "      <td>82.100000</td>\n",
              "    </tr>\n",
              "    <tr>\n",
              "      <th>MCP.1</th>\n",
              "      <td>116.0</td>\n",
              "      <td>534.647000</td>\n",
              "      <td>345.912663</td>\n",
              "      <td>45.843000</td>\n",
              "      <td>269.978250</td>\n",
              "      <td>471.322500</td>\n",
              "      <td>700.085000</td>\n",
              "      <td>1698.440000</td>\n",
              "    </tr>\n",
              "    <tr>\n",
              "      <th>Classification</th>\n",
              "      <td>116.0</td>\n",
              "      <td>1.551724</td>\n",
              "      <td>0.499475</td>\n",
              "      <td>1.000000</td>\n",
              "      <td>1.000000</td>\n",
              "      <td>2.000000</td>\n",
              "      <td>2.000000</td>\n",
              "      <td>2.000000</td>\n",
              "    </tr>\n",
              "  </tbody>\n",
              "</table>\n",
              "</div>\n",
              "      <button class=\"colab-df-convert\" onclick=\"convertToInteractive('df-9f56b21d-55e6-474f-a53f-dd2fbf4cf50d')\"\n",
              "              title=\"Convert this dataframe to an interactive table.\"\n",
              "              style=\"display:none;\">\n",
              "        \n",
              "  <svg xmlns=\"http://www.w3.org/2000/svg\" height=\"24px\"viewBox=\"0 0 24 24\"\n",
              "       width=\"24px\">\n",
              "    <path d=\"M0 0h24v24H0V0z\" fill=\"none\"/>\n",
              "    <path d=\"M18.56 5.44l.94 2.06.94-2.06 2.06-.94-2.06-.94-.94-2.06-.94 2.06-2.06.94zm-11 1L8.5 8.5l.94-2.06 2.06-.94-2.06-.94L8.5 2.5l-.94 2.06-2.06.94zm10 10l.94 2.06.94-2.06 2.06-.94-2.06-.94-.94-2.06-.94 2.06-2.06.94z\"/><path d=\"M17.41 7.96l-1.37-1.37c-.4-.4-.92-.59-1.43-.59-.52 0-1.04.2-1.43.59L10.3 9.45l-7.72 7.72c-.78.78-.78 2.05 0 2.83L4 21.41c.39.39.9.59 1.41.59.51 0 1.02-.2 1.41-.59l7.78-7.78 2.81-2.81c.8-.78.8-2.07 0-2.86zM5.41 20L4 18.59l7.72-7.72 1.47 1.35L5.41 20z\"/>\n",
              "  </svg>\n",
              "      </button>\n",
              "      \n",
              "  <style>\n",
              "    .colab-df-container {\n",
              "      display:flex;\n",
              "      flex-wrap:wrap;\n",
              "      gap: 12px;\n",
              "    }\n",
              "\n",
              "    .colab-df-convert {\n",
              "      background-color: #E8F0FE;\n",
              "      border: none;\n",
              "      border-radius: 50%;\n",
              "      cursor: pointer;\n",
              "      display: none;\n",
              "      fill: #1967D2;\n",
              "      height: 32px;\n",
              "      padding: 0 0 0 0;\n",
              "      width: 32px;\n",
              "    }\n",
              "\n",
              "    .colab-df-convert:hover {\n",
              "      background-color: #E2EBFA;\n",
              "      box-shadow: 0px 1px 2px rgba(60, 64, 67, 0.3), 0px 1px 3px 1px rgba(60, 64, 67, 0.15);\n",
              "      fill: #174EA6;\n",
              "    }\n",
              "\n",
              "    [theme=dark] .colab-df-convert {\n",
              "      background-color: #3B4455;\n",
              "      fill: #D2E3FC;\n",
              "    }\n",
              "\n",
              "    [theme=dark] .colab-df-convert:hover {\n",
              "      background-color: #434B5C;\n",
              "      box-shadow: 0px 1px 3px 1px rgba(0, 0, 0, 0.15);\n",
              "      filter: drop-shadow(0px 1px 2px rgba(0, 0, 0, 0.3));\n",
              "      fill: #FFFFFF;\n",
              "    }\n",
              "  </style>\n",
              "\n",
              "      <script>\n",
              "        const buttonEl =\n",
              "          document.querySelector('#df-9f56b21d-55e6-474f-a53f-dd2fbf4cf50d button.colab-df-convert');\n",
              "        buttonEl.style.display =\n",
              "          google.colab.kernel.accessAllowed ? 'block' : 'none';\n",
              "\n",
              "        async function convertToInteractive(key) {\n",
              "          const element = document.querySelector('#df-9f56b21d-55e6-474f-a53f-dd2fbf4cf50d');\n",
              "          const dataTable =\n",
              "            await google.colab.kernel.invokeFunction('convertToInteractive',\n",
              "                                                     [key], {});\n",
              "          if (!dataTable) return;\n",
              "\n",
              "          const docLinkHtml = 'Like what you see? Visit the ' +\n",
              "            '<a target=\"_blank\" href=https://colab.research.google.com/notebooks/data_table.ipynb>data table notebook</a>'\n",
              "            + ' to learn more about interactive tables.';\n",
              "          element.innerHTML = '';\n",
              "          dataTable['output_type'] = 'display_data';\n",
              "          await google.colab.output.renderOutput(dataTable, element);\n",
              "          const docLink = document.createElement('div');\n",
              "          docLink.innerHTML = docLinkHtml;\n",
              "          element.appendChild(docLink);\n",
              "        }\n",
              "      </script>\n",
              "    </div>\n",
              "  </div>\n",
              "  "
            ]
          },
          "metadata": {},
          "execution_count": 4
        }
      ]
    },
    {
      "cell_type": "code",
      "source": [
        "#verificacion de datos perdidos\n",
        "df.isnull().sum()"
      ],
      "metadata": {
        "colab": {
          "base_uri": "https://localhost:8080/"
        },
        "id": "hmlkWEsq2v22",
        "outputId": "754d1345-4c59-43a8-f8b9-f190fa722b39"
      },
      "execution_count": null,
      "outputs": [
        {
          "output_type": "execute_result",
          "data": {
            "text/plain": [
              "Age               0\n",
              "BMI               0\n",
              "Glucose           0\n",
              "Insulin           0\n",
              "HOMA              0\n",
              "Leptin            0\n",
              "Adiponectin       0\n",
              "Resistin          0\n",
              "MCP.1             0\n",
              "Classification    0\n",
              "dtype: int64"
            ]
          },
          "metadata": {},
          "execution_count": 5
        }
      ]
    },
    {
      "cell_type": "code",
      "source": [
        "df.dtypes"
      ],
      "metadata": {
        "colab": {
          "base_uri": "https://localhost:8080/"
        },
        "id": "al-NEVai2zLU",
        "outputId": "93686955-7826-4ea2-df85-cdb3896743b6"
      },
      "execution_count": null,
      "outputs": [
        {
          "output_type": "execute_result",
          "data": {
            "text/plain": [
              "Age                 int64\n",
              "BMI               float64\n",
              "Glucose             int64\n",
              "Insulin           float64\n",
              "HOMA              float64\n",
              "Leptin            float64\n",
              "Adiponectin       float64\n",
              "Resistin          float64\n",
              "MCP.1             float64\n",
              "Classification      int64\n",
              "dtype: object"
            ]
          },
          "metadata": {},
          "execution_count": 6
        }
      ]
    },
    {
      "cell_type": "code",
      "source": [
        "plt.figure(figsize= (10 , 6))\n",
        "g = sns.histplot(df.Age , kde = True)"
      ],
      "metadata": {
        "colab": {
          "base_uri": "https://localhost:8080/",
          "height": 388
        },
        "id": "3Xk1I7nb4NzU",
        "outputId": "7600156a-0168-4b0d-adc6-f126dd4a3827"
      },
      "execution_count": null,
      "outputs": [
        {
          "output_type": "display_data",
          "data": {
            "text/plain": [
              "<Figure size 720x432 with 1 Axes>"
            ],
            "image/png": "[encoded data removed]"
          },
          "metadata": {
            "needs_background": "light"
          }
        }
      ]
    },
    {
      "cell_type": "code",
      "source": [
        "#matrix de correlacion\n",
        "plt.figure(figsize= (15 , 15))\n",
        "sns.heatmap(df.corr(),cmap=\"Blues\")"
      ],
      "metadata": {
        "colab": {
          "base_uri": "https://localhost:8080/",
          "height": 885
        },
        "id": "aCI1I6Iw4Oeo",
        "outputId": "1dfbe640-92ef-42ef-8e25-65fea69fb385"
      },
      "execution_count": null,
      "outputs": [
        {
          "output_type": "execute_result",
          "data": {
            "text/plain": [
              "<matplotlib.axes._subplots.AxesSubplot at 0x7f3c873de990>"
            ]
          },
          "metadata": {},
          "execution_count": 8
        },
        {
          "output_type": "display_data",
          "data": {
            "text/plain": [
              "<Figure size 1080x1080 with 2 Axes>"
            ],
            "image/png": "[encoded data removed]"
          },
          "metadata": {
            "needs_background": "light"
          }
        }
      ]
    },
    {
      "cell_type": "code",
      "source": [
        "plt.figure(figsize= (10 , 6))\n",
        "g = sns.histplot(df.Leptin , kde = True)"
      ],
      "metadata": {
        "colab": {
          "base_uri": "https://localhost:8080/",
          "height": 388
        },
        "id": "0PcJWli-64YN",
        "outputId": "84b892b3-838a-4737-e90a-06c3de4e9f8b"
      },
      "execution_count": null,
      "outputs": [
        {
          "output_type": "display_data",
          "data": {
            "text/plain": [
              "<Figure size 720x432 with 1 Axes>"
            ],
            "image/png": "[encoded data removed]"
          },
          "metadata": {
            "needs_background": "light"
          }
        }
      ]
    },
    {
      "cell_type": "code",
      "source": [
        "plt.figure(figsize= (10 , 6))\n",
        "g = sns.histplot(df.BMI , kde = True)"
      ],
      "metadata": {
        "colab": {
          "base_uri": "https://localhost:8080/",
          "height": 388
        },
        "id": "O9WY4zhF69eV",
        "outputId": "97082c02-23dd-44f0-f618-0827dc488def"
      },
      "execution_count": null,
      "outputs": [
        {
          "output_type": "display_data",
          "data": {
            "text/plain": [
              "<Figure size 720x432 with 1 Axes>"
            ],
            "image/png": "[encoded data removed]"
          },
          "metadata": {
            "needs_background": "light"
          }
        }
      ]
    },
    {
      "cell_type": "code",
      "source": [
        "#Conocer si las clases estan balanceadas\n",
        "print(f\"Cantidad Personas sanas {len(df[df.Classification==1])}\") \n",
        "print(f\"Cantidad Personas cancer {len(df[df.Classification==2])}\") "
      ],
      "metadata": {
        "colab": {
          "base_uri": "https://localhost:8080/"
        },
        "id": "CAD7Wn5h-qe4",
        "outputId": "1c44c481-af6c-488d-e5db-0dc6b3010a3a"
      },
      "execution_count": null,
      "outputs": [
        {
          "output_type": "stream",
          "name": "stdout",
          "text": [
            "Cantidad Personas sanas 52\n",
            "Cantidad Personas cancer 64\n"
          ]
        }
      ]
    },
    {
      "cell_type": "code",
      "source": [
        "y = df.Classification\n",
        "X = df.drop(['Classification'], axis=1)\n",
        "X_train, X_test, y_train, y_test = train_test_split(X, y, test_size=0.20, random_state=17)"
      ],
      "metadata": {
        "id": "lpDaI9_X8H57"
      },
      "execution_count": null,
      "outputs": []
    },
    {
      "cell_type": "markdown",
      "source": [
        "##Modelo Regresión Logística"
      ],
      "metadata": {
        "id": "8hy92WhXA_2I"
      }
    },
    {
      "cell_type": "code",
      "source": [
        "#entrenamiento del modelo\n",
        "from sklearn.linear_model import LogisticRegression\n",
        "lr=LogisticRegression(solver='lbfgs',max_iter=20000).fit(X_train,y_train)"
      ],
      "metadata": {
        "id": "Ty-Echca_yr8"
      },
      "execution_count": null,
      "outputs": []
    },
    {
      "cell_type": "code",
      "source": [
        "pred_lr = lr.predict(X_test)\n",
        "print(classification_report(y_test,pred_lr))"
      ],
      "metadata": {
        "colab": {
          "base_uri": "https://localhost:8080/"
        },
        "id": "zwNfDt97_4-0",
        "outputId": "1acd396d-1aea-457b-cbea-327eb6260c5f"
      },
      "execution_count": null,
      "outputs": [
        {
          "output_type": "stream",
          "name": "stdout",
          "text": [
            "              precision    recall  f1-score   support\n",
            "\n",
            "           1       0.82      0.90      0.86        10\n",
            "           2       0.92      0.86      0.89        14\n",
            "\n",
            "    accuracy                           0.88        24\n",
            "   macro avg       0.87      0.88      0.87        24\n",
            "weighted avg       0.88      0.88      0.88        24\n",
            "\n"
          ]
        }
      ]
    },
    {
      "cell_type": "markdown",
      "source": [
        "##Modelo Ramdon Forest"
      ],
      "metadata": {
        "id": "p9x69qXNBTmr"
      }
    },
    {
      "cell_type": "code",
      "source": [
        "from sklearn.ensemble import RandomForestClassifier\n",
        "# modificamos max_depth jugamos con el para encontrar una mejor precisión\n",
        "rfr = RandomForestClassifier(max_depth=100000).fit(X_train, y_train) "
      ],
      "metadata": {
        "id": "bAsw_o2UBd0E"
      },
      "execution_count": null,
      "outputs": []
    },
    {
      "cell_type": "code",
      "source": [
        "pred_rfr = rfr.predict(X_test)\n",
        "print(classification_report(y_test, pred_rfr))"
      ],
      "metadata": {
        "colab": {
          "base_uri": "https://localhost:8080/"
        },
        "id": "upwjWOYTBpTw",
        "outputId": "b37436f2-6eca-4b95-acb9-97f727971b2c"
      },
      "execution_count": null,
      "outputs": [
        {
          "output_type": "stream",
          "name": "stdout",
          "text": [
            "              precision    recall  f1-score   support\n",
            "\n",
            "           1       0.80      0.80      0.80        10\n",
            "           2       0.86      0.86      0.86        14\n",
            "\n",
            "    accuracy                           0.83        24\n",
            "   macro avg       0.83      0.83      0.83        24\n",
            "weighted avg       0.83      0.83      0.83        24\n",
            "\n"
          ]
        }
      ]
    },
    {
      "cell_type": "markdown",
      "source": [
        "## Red neuronal"
      ],
      "metadata": {
        "id": "nxKFwrMBC2b8"
      }
    },
    {
      "cell_type": "code",
      "source": [
        "from tensorflow.keras.models import Sequential\n",
        "from tensorflow.keras.layers import *\n",
        "from tensorflow.keras.callbacks import ModelCheckpoint\n",
        "from tensorflow.keras.metrics import RootMeanSquaredError\n",
        "from tensorflow.keras.optimizers import Adam"
      ],
      "metadata": {
        "id": "I76_swMhCvnr"
      },
      "execution_count": null,
      "outputs": []
    },
    {
      "cell_type": "code",
      "source": [
        "simple_nn = Sequential()\n",
        "simple_nn.add(InputLayer((9,)))\n",
        "simple_nn.add(Dense(4, 'relu'))\n",
        "simple_nn.add(Dense(4, 'relu'))\n",
        "simple_nn.add(Dense(1, 'sigmoid'))\n",
        " \n",
        "opt = Adam(learning_rate=.1) #optimizador adam con una tasa de aprendizaje de 0.1\n",
        "cp = ModelCheckpoint('models/simple_nn', save_best_only=True)\n",
        "simple_nn.compile(optimizer=opt, loss='mse', metrics=[RootMeanSquaredError()])\n",
        "simple_nn.fit(x=X_train, y=y_train, validation_data=(X_test, y_test), callbacks=[cp], epochs=10)"
      ],
      "metadata": {
        "colab": {
          "base_uri": "https://localhost:8080/"
        },
        "id": "ayoGq4nuDFm7",
        "outputId": "b7c2546c-3291-4b9b-d11a-13f0fdfd8fe3"
      },
      "execution_count": null,
      "outputs": [
        {
          "output_type": "stream",
          "name": "stdout",
          "text": [
            "Epoch 1/10\n",
            "3/3 [==============================] - 2s 486ms/step - loss: 0.5436 - root_mean_squared_error: 0.7373 - val_loss: 0.5833 - val_root_mean_squared_error: 0.7638\n",
            "Epoch 2/10\n",
            "3/3 [==============================] - 0s 18ms/step - loss: 0.5435 - root_mean_squared_error: 0.7372 - val_loss: 0.5833 - val_root_mean_squared_error: 0.7638\n",
            "Epoch 3/10\n",
            "3/3 [==============================] - 0s 15ms/step - loss: 0.5435 - root_mean_squared_error: 0.7372 - val_loss: 0.5833 - val_root_mean_squared_error: 0.7638\n",
            "Epoch 4/10\n",
            "3/3 [==============================] - 0s 14ms/step - loss: 0.5435 - root_mean_squared_error: 0.7372 - val_loss: 0.5833 - val_root_mean_squared_error: 0.7638\n",
            "Epoch 5/10\n",
            "3/3 [==============================] - 0s 22ms/step - loss: 0.5435 - root_mean_squared_error: 0.7372 - val_loss: 0.5833 - val_root_mean_squared_error: 0.7638\n",
            "Epoch 6/10\n",
            "3/3 [==============================] - 0s 20ms/step - loss: 0.5435 - root_mean_squared_error: 0.7372 - val_loss: 0.5833 - val_root_mean_squared_error: 0.7638\n",
            "Epoch 7/10\n",
            "3/3 [==============================] - 0s 15ms/step - loss: 0.5435 - root_mean_squared_error: 0.7372 - val_loss: 0.5833 - val_root_mean_squared_error: 0.7638\n",
            "Epoch 8/10\n",
            "3/3 [==============================] - 0s 15ms/step - loss: 0.5435 - root_mean_squared_error: 0.7372 - val_loss: 0.5833 - val_root_mean_squared_error: 0.7638\n",
            "Epoch 9/10\n",
            "3/3 [==============================] - 0s 16ms/step - loss: 0.5435 - root_mean_squared_error: 0.7372 - val_loss: 0.5833 - val_root_mean_squared_error: 0.7638\n",
            "Epoch 10/10\n",
            "3/3 [==============================] - 0s 20ms/step - loss: 0.5435 - root_mean_squared_error: 0.7372 - val_loss: 0.5833 - val_root_mean_squared_error: 0.7638\n"
          ]
        },
        {
          "output_type": "execute_result",
          "data": {
            "text/plain": [
              "<keras.callbacks.History at 0x7f3c1cdcb050>"
            ]
          },
          "metadata": {},
          "execution_count": 22
        }
      ]
    },
    {
      "cell_type": "code",
      "source": [
        "pred_rn = simple_nn.predict(X_test)\n",
        "print(classification_report(y_test,pred_rn))"
      ],
      "metadata": {
        "colab": {
          "base_uri": "https://localhost:8080/"
        },
        "id": "hIA_hxLXDtIH",
        "outputId": "8ff96e62-da2f-4786-99bc-94546b93f627"
      },
      "execution_count": null,
      "outputs": [
        {
          "output_type": "stream",
          "name": "stdout",
          "text": [
            "              precision    recall  f1-score   support\n",
            "\n",
            "           1       0.42      1.00      0.59        10\n",
            "           2       0.00      0.00      0.00        14\n",
            "\n",
            "    accuracy                           0.42        24\n",
            "   macro avg       0.21      0.50      0.29        24\n",
            "weighted avg       0.17      0.42      0.25        24\n",
            "\n"
          ]
        }
      ]
    },
    {
      "cell_type": "markdown",
      "source": [
        "## Tunning de hiperparámetros"
      ],
      "metadata": {
        "id": "HrcDxvt-Gmab"
      }
    },
    {
      "cell_type": "code",
      "source": [
        "params_grid = {'penalty' : ['l1', 'l2', 'elasticnet', 'none'],\n",
        "               'C' : np.logspace(-4, 4, 20),\n",
        "               'solver' : ['lbfgs','newton-cg','liblinear','sag','saga']}\n",
        "\n",
        "from sklearn.model_selection import GridSearchCV\n",
        "lr_gs = GridSearchCV(lr, params_grid, scoring=\"f1\", cv=3, verbose=2, n_jobs=-1)\n",
        "\n",
        "best_lr = lr_gs.fit(X_train, y_train) #volvemos a entrenar\n",
        "# print(f\"Best parameters: {best_lr.best_params_}\") #mostrar los mejores parametros para "
      ],
      "metadata": {
        "colab": {
          "base_uri": "https://localhost:8080/"
        },
        "id": "x9t8B1b9IOTq",
        "outputId": "08a9696e-aba1-42e2-caaa-1fd812347da6"
      },
      "execution_count": null,
      "outputs": [
        {
          "output_type": "stream",
          "name": "stdout",
          "text": [
            "Fitting 3 folds for each of 400 candidates, totalling 1200 fits\n"
          ]
        }
      ]
    },
    {
      "cell_type": "code",
      "source": [
        "y_pred_b = best_lr.predict(X_test)\n",
        "print(classification_report(y_test, y_pred_b))\n",
        "# print('Accuracy of logistic regression classifier on test set: {:.2f}'.format(best_lr.score(X_test, y_test)))"
      ],
      "metadata": {
        "colab": {
          "base_uri": "https://localhost:8080/"
        },
        "id": "bzWSh6E8JVdC",
        "outputId": "7a49f2d4-a662-4b65-b056-ddb5bc1e2fc3"
      },
      "execution_count": null,
      "outputs": [
        {
          "output_type": "stream",
          "name": "stdout",
          "text": [
            "              precision    recall  f1-score   support\n",
            "\n",
            "           1       0.82      0.90      0.86        10\n",
            "           2       0.92      0.86      0.89        14\n",
            "\n",
            "    accuracy                           0.88        24\n",
            "   macro avg       0.87      0.88      0.87        24\n",
            "weighted avg       0.88      0.88      0.88        24\n",
            "\n"
          ]
        }
      ]
    },
    {
      "cell_type": "markdown",
      "source": [
        "## Conclusión\n",
        "De acuerdo a las metricas de evaluación obtenidas podemos decir que el modelo de regresión logistica es un buen clasificador para nuestra base de datos."
      ],
      "metadata": {
        "id": "aTMv8p2BlF0J"
      }
    }
  ]
}